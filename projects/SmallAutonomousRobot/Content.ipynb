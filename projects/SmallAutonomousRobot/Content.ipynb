{
 "cells": [
  {
   "cell_type": "markdown",
   "metadata": {},
   "source": [
    "<center><b><font size=\"6\">Design and Construction of a Small Autonomous Robot</font></b></center>\n",
    "\n",
    "This was a five weeks final project for the UCSC Mechatronics CMPE218 class. The purpose of this project was to provide an opportunity to apply all that we learned in CMPE‐118 to solve an open‐ended problem. The task was to build an autonomous robot capable to navigate the game field, locate and destroy the enemy ATM6’s (using ping pong ball ammo), and then shoot down Ren’s ship with a very well‐aimed shot."
   ]
  },
  {
   "cell_type": "markdown",
   "metadata": {},
   "source": [
    "**The Background Briefing for the set up:**\n",
    "\n",
    "<i>\"The Rebel Alliance dealt a massive blow to the reconstituted Empire, the First Order, defeating their dreaded Starkiller Base, and giving rise to the voices of freedom throughout the galaxy. The First Order, however, has not been idle after this setback, and has massed forces ready to wipe out the Rebel Resistance.</i>\n",
    "\n",
    "<i>First Order, led by the evil Kylo Ren, is preparing an assault on the Resistance Base on the planet Crait. A Resistance spy, Rey, aided by a sympathetic ex‐storm trooper, Finn, is leading the defense of Crait against a battalion of AT‐M6 armored walkers and Ren’s TAI Silencer ship.</i>\n",
    "\n",
    "<i>The battle is critical to the survival of the Rebel forces. The Rebel Alliance has commissioned the CMPE‐118 class to game out possible solutions to the impending attack. Will you be able to help the Alliance survive the onslaught?\"</i>"
   ]
  },
  {
   "cell_type": "markdown",
   "metadata": {},
   "source": [
    "<center><iframe width=\"560\" height=\"315\" src=\"https://www.youtube.com/embed/3n-wl-mXXi8\" frameborder=\"0\" allow=\"accelerometer; autoplay; encrypted-media; gyroscope; picture-in-picture\" allowfullscreen></iframe></center>"
   ]
  },
  {
   "cell_type": "markdown",
   "metadata": {},
   "source": [
    "<b><font size=\"5\">The Team</font></b>\n",
    "\n",
    "[Iñaki Gonzalo (Left)](https://www.linkedin.com/in/i%C3%B1aki-gonzalo/), Carlos Espinosa (Center) and [Wuyuan Chen (Right)](https://www.linkedin.com/in/wuyuan/)"
   ]
  },
  {
   "cell_type": "markdown",
   "metadata": {},
   "source": [
    "<figure>\n",
    "  <img src=\"img/Team.jpg\" width=\"500\" alt=\"Field to scale\"/>\n",
    "  <figcaption><center>Figure 1:  Team Celebration After Check Off</center></figcaption>\n",
    "</figure>"
   ]
  },
  {
   "cell_type": "markdown",
   "metadata": {
    "toc": true
   },
   "source": [
    "<h1>Table of Contents<span class=\"tocSkip\"></span></h1>\n",
    "<div class=\"toc\"><ul class=\"toc-item\"><li><span><a href=\"#Introduction\" data-toc-modified-id=\"Introduction-1\"><span class=\"toc-item-num\">1&nbsp;&nbsp;</span>Introduction</a></span><ul class=\"toc-item\"><li><span><a href=\"#Problem-Description\" data-toc-modified-id=\"Problem-Description-1.1\"><span class=\"toc-item-num\">1.1&nbsp;&nbsp;</span>Problem Description</a></span></li><li><span><a href=\"#The-Field\" data-toc-modified-id=\"The-Field-1.2\"><span class=\"toc-item-num\">1.2&nbsp;&nbsp;</span>The Field</a></span></li><li><span><a href=\"#The-ATM6’s\" data-toc-modified-id=\"The-ATM6’s-1.3\"><span class=\"toc-item-num\">1.3&nbsp;&nbsp;</span>The ATM6’s</a></span></li><li><span><a href=\"#The-Ren\" data-toc-modified-id=\"The-Ren-1.4\"><span class=\"toc-item-num\">1.4&nbsp;&nbsp;</span>The Ren</a></span></li><li><span><a href=\"#Design-Constraints\" data-toc-modified-id=\"Design-Constraints-1.5\"><span class=\"toc-item-num\">1.5&nbsp;&nbsp;</span>Design Constraints</a></span></li></ul></li><li><span><a href=\"#System-Architecture\" data-toc-modified-id=\"System-Architecture-2\"><span class=\"toc-item-num\">2&nbsp;&nbsp;</span>System Architecture</a></span></li><li><span><a href=\"#Mechanical-Design\" data-toc-modified-id=\"Mechanical-Design-3\"><span class=\"toc-item-num\">3&nbsp;&nbsp;</span>Mechanical Design</a></span><ul class=\"toc-item\"><li><span><a href=\"#Module-Layer-Design\" data-toc-modified-id=\"Module-Layer-Design-3.1\"><span class=\"toc-item-num\">3.1&nbsp;&nbsp;</span>Module Layer Design</a></span></li><li><span><a href=\"#Bottom-Layer\" data-toc-modified-id=\"Bottom-Layer-3.2\"><span class=\"toc-item-num\">3.2&nbsp;&nbsp;</span>Bottom Layer</a></span></li><li><span><a href=\"#Middle-Layer\" data-toc-modified-id=\"Middle-Layer-3.3\"><span class=\"toc-item-num\">3.3&nbsp;&nbsp;</span>Middle Layer</a></span></li><li><span><a href=\"#Top-Layer\" data-toc-modified-id=\"Top-Layer-3.4\"><span class=\"toc-item-num\">3.4&nbsp;&nbsp;</span>Top Layer</a></span></li><li><span><a href=\"#Shooting-Mechanism\" data-toc-modified-id=\"Shooting-Mechanism-3.5\"><span class=\"toc-item-num\">3.5&nbsp;&nbsp;</span>Shooting Mechanism</a></span><ul class=\"toc-item\"><li><span><a href=\"#Trigger\" data-toc-modified-id=\"Trigger-3.5.1\"><span class=\"toc-item-num\">3.5.1&nbsp;&nbsp;</span>Trigger</a></span></li><li><span><a href=\"#Tilting\" data-toc-modified-id=\"Tilting-3.5.2\"><span class=\"toc-item-num\">3.5.2&nbsp;&nbsp;</span>Tilting</a></span></li><li><span><a href=\"#Extender\" data-toc-modified-id=\"Extender-3.5.3\"><span class=\"toc-item-num\">3.5.3&nbsp;&nbsp;</span>Extender</a></span></li><li><span><a href=\"#Ball-Accelerator\" data-toc-modified-id=\"Ball-Accelerator-3.5.4\"><span class=\"toc-item-num\">3.5.4&nbsp;&nbsp;</span>Ball Accelerator</a></span></li><li><span><a href=\"#Ball-Container\" data-toc-modified-id=\"Ball-Container-3.5.5\"><span class=\"toc-item-num\">3.5.5&nbsp;&nbsp;</span>Ball Container</a></span></li></ul></li></ul></li><li><span><a href=\"#Hardware-Architecture\" data-toc-modified-id=\"Hardware-Architecture-4\"><span class=\"toc-item-num\">4&nbsp;&nbsp;</span>Hardware Architecture</a></span><ul class=\"toc-item\"><li><span><a href=\"#Trackwire-Sensor\" data-toc-modified-id=\"Trackwire-Sensor-4.1\"><span class=\"toc-item-num\">4.1&nbsp;&nbsp;</span>Trackwire Sensor</a></span><ul class=\"toc-item\"><li><span><a href=\"#Split-Rail-Buffer\" data-toc-modified-id=\"Split-Rail-Buffer-4.1.1\"><span class=\"toc-item-num\">4.1.1&nbsp;&nbsp;</span>Split Rail Buffer</a></span></li><li><span><a href=\"#Tank-Circuit\" data-toc-modified-id=\"Tank-Circuit-4.1.2\"><span class=\"toc-item-num\">4.1.2&nbsp;&nbsp;</span>Tank Circuit</a></span></li></ul></li><li><span><a href=\"#Beacon-detector\" data-toc-modified-id=\"Beacon-detector-4.2\"><span class=\"toc-item-num\">4.2&nbsp;&nbsp;</span>Beacon detector</a></span><ul class=\"toc-item\"><li><span><a href=\"#Split-Rail-Buffer\" data-toc-modified-id=\"Split-Rail-Buffer-4.2.1\"><span class=\"toc-item-num\">4.2.1&nbsp;&nbsp;</span>Split Rail Buffer</a></span></li><li><span><a href=\"#Trans-resistive-Phototransistor-Circuit\" data-toc-modified-id=\"Trans-resistive-Phototransistor-Circuit-4.2.2\"><span class=\"toc-item-num\">4.2.2&nbsp;&nbsp;</span>Trans-resistive Phototransistor Circuit</a></span></li><li><span><a href=\"#Gain-Stage\" data-toc-modified-id=\"Gain-Stage-4.2.3\"><span class=\"toc-item-num\">4.2.3&nbsp;&nbsp;</span>Gain Stage</a></span></li><li><span><a href=\"#First-Comparator\" data-toc-modified-id=\"First-Comparator-4.2.4\"><span class=\"toc-item-num\">4.2.4&nbsp;&nbsp;</span>First Comparator</a></span></li><li><span><a href=\"#Butterworth-Bandpass-Filter\" data-toc-modified-id=\"Butterworth-Bandpass-Filter-4.2.5\"><span class=\"toc-item-num\">4.2.5&nbsp;&nbsp;</span>Butterworth Bandpass Filter</a></span></li><li><span><a href=\"#Peak-Detector\" data-toc-modified-id=\"Peak-Detector-4.2.6\"><span class=\"toc-item-num\">4.2.6&nbsp;&nbsp;</span>Peak Detector</a></span></li><li><span><a href=\"#Second-Comparator\" data-toc-modified-id=\"Second-Comparator-4.2.7\"><span class=\"toc-item-num\">4.2.7&nbsp;&nbsp;</span>Second Comparator</a></span></li></ul></li><li><span><a href=\"#Tape-Sensors\" data-toc-modified-id=\"Tape-Sensors-4.3\"><span class=\"toc-item-num\">4.3&nbsp;&nbsp;</span>Tape Sensors</a></span><ul class=\"toc-item\"><li><span><a href=\"#Placement\" data-toc-modified-id=\"Placement-4.3.1\"><span class=\"toc-item-num\">4.3.1&nbsp;&nbsp;</span>Placement</a></span></li></ul></li><li><span><a href=\"#Bumpers-Sensors\" data-toc-modified-id=\"Bumpers-Sensors-4.4\"><span class=\"toc-item-num\">4.4&nbsp;&nbsp;</span>Bumpers Sensors</a></span></li><li><span><a href=\"#Wire-Management\" data-toc-modified-id=\"Wire-Management-4.5\"><span class=\"toc-item-num\">4.5&nbsp;&nbsp;</span>Wire Management</a></span></li><li><span><a href=\"#Driving-Actuators\" data-toc-modified-id=\"Driving-Actuators-4.6\"><span class=\"toc-item-num\">4.6&nbsp;&nbsp;</span>Driving Actuators</a></span><ul class=\"toc-item\"><li><span><a href=\"#H-Bridge\" data-toc-modified-id=\"H-Bridge-4.6.1\"><span class=\"toc-item-num\">4.6.1&nbsp;&nbsp;</span>H-Bridge</a></span></li><li><span><a href=\"#Tip-122\" data-toc-modified-id=\"Tip-122-4.6.2\"><span class=\"toc-item-num\">4.6.2&nbsp;&nbsp;</span>Tip 122</a></span></li></ul></li></ul></li><li><span><a href=\"#Software-Architecture\" data-toc-modified-id=\"Software-Architecture-5\"><span class=\"toc-item-num\">5&nbsp;&nbsp;</span>Software Architecture</a></span><ul class=\"toc-item\"><li><span><a href=\"#State-machines\" data-toc-modified-id=\"State-machines-5.1\"><span class=\"toc-item-num\">5.1&nbsp;&nbsp;</span>State machines</a></span><ul class=\"toc-item\"><li><span><a href=\"#Top-state-machine\" data-toc-modified-id=\"Top-state-machine-5.1.1\"><span class=\"toc-item-num\">5.1.1&nbsp;&nbsp;</span>Top state machine</a></span></li><li><span><a href=\"#Find-Line\" data-toc-modified-id=\"Find-Line-5.1.2\"><span class=\"toc-item-num\">5.1.2&nbsp;&nbsp;</span>Find Line</a></span></li><li><span><a href=\"#Line-Follower\" data-toc-modified-id=\"Line-Follower-5.1.3\"><span class=\"toc-item-num\">5.1.3&nbsp;&nbsp;</span>Line Follower</a></span></li><li><span><a href=\"#Obstacle-Avoidance\" data-toc-modified-id=\"Obstacle-Avoidance-5.1.4\"><span class=\"toc-item-num\">5.1.4&nbsp;&nbsp;</span>Obstacle Avoidance</a></span></li><li><span><a href=\"#Align-ATM6\" data-toc-modified-id=\"Align-ATM6-5.1.5\"><span class=\"toc-item-num\">5.1.5&nbsp;&nbsp;</span>Align ATM6</a></span></li><li><span><a href=\"#Shoot\" data-toc-modified-id=\"Shoot-5.1.6\"><span class=\"toc-item-num\">5.1.6&nbsp;&nbsp;</span>Shoot</a></span></li><li><span><a href=\"#Exit-Shoot\" data-toc-modified-id=\"Exit-Shoot-5.1.7\"><span class=\"toc-item-num\">5.1.7&nbsp;&nbsp;</span>Exit Shoot</a></span></li><li><span><a href=\"#Attack-Ren\" data-toc-modified-id=\"Attack-Ren-5.1.8\"><span class=\"toc-item-num\">5.1.8&nbsp;&nbsp;</span>Attack Ren</a></span></li></ul></li><li><span><a href=\"#Event-Checkers\" data-toc-modified-id=\"Event-Checkers-5.2\"><span class=\"toc-item-num\">5.2&nbsp;&nbsp;</span>Event Checkers</a></span><ul class=\"toc-item\"><li><span><a href=\"#Tape-Sensor\" data-toc-modified-id=\"Tape-Sensor-5.2.1\"><span class=\"toc-item-num\">5.2.1&nbsp;&nbsp;</span>Tape Sensor</a></span></li><li><span><a href=\"#Bumpers\" data-toc-modified-id=\"Bumpers-5.2.2\"><span class=\"toc-item-num\">5.2.2&nbsp;&nbsp;</span>Bumpers</a></span></li><li><span><a href=\"#Beacon-Detector\" data-toc-modified-id=\"Beacon-Detector-5.2.3\"><span class=\"toc-item-num\">5.2.3&nbsp;&nbsp;</span>Beacon Detector</a></span></li></ul></li><li><span><a href=\"#Testing-Procedures\" data-toc-modified-id=\"Testing-Procedures-5.3\"><span class=\"toc-item-num\">5.3&nbsp;&nbsp;</span>Testing Procedures</a></span></li></ul></li><li><span><a href=\"#Challenges\" data-toc-modified-id=\"Challenges-6\"><span class=\"toc-item-num\">6&nbsp;&nbsp;</span>Challenges</a></span><ul class=\"toc-item\"><li><span><a href=\"#Accuracy\" data-toc-modified-id=\"Accuracy-6.1\"><span class=\"toc-item-num\">6.1&nbsp;&nbsp;</span>Accuracy</a></span></li><li><span><a href=\"#Stalling/-slipping-(motor-problems)\" data-toc-modified-id=\"Stalling/-slipping-(motor-problems)-6.2\"><span class=\"toc-item-num\">6.2&nbsp;&nbsp;</span>Stalling/ slipping (motor problems)</a></span></li><li><span><a href=\"#Lack-of-sleep\" data-toc-modified-id=\"Lack-of-sleep-6.3\"><span class=\"toc-item-num\">6.3&nbsp;&nbsp;</span>Lack of sleep</a></span></li></ul></li><li><span><a href=\"#Conclusion\" data-toc-modified-id=\"Conclusion-7\"><span class=\"toc-item-num\">7&nbsp;&nbsp;</span>Conclusion</a></span></li></ul></div>"
   ]
  },
  {
   "cell_type": "markdown",
   "metadata": {},
   "source": [
    "## Introduction\n",
    "\n",
    "The purpose of this project is to design and implement a machine capable of solving a particular task. There are two major considerations in building this device. The device must finish the task without any human interaction. This means the robot must use sensors and time to figure out its course of action. The other factor is that the task to be solved changes slightly on every iteration. This means that the device must be flexible enough to account for this.\n",
    "\n",
    "### Problem Description\n",
    "\n",
    "We are tasked with placing a standard size ping pong ball through targets of different types in field that is pseudo-randomly generated. We have two types of targets the ATM6 and the Ren.\n",
    "\n",
    "### The Field\n",
    "\n",
    "The field is a white, IR reflective, 4’ by 8’ surface. The boundaries are delimited by a 2 inch wide black tape that is not IR reflective. There is a T shaped figure with tape that points to the Ren and there is also small pieces of tape in the middle of the field."
   ]
  },
  {
   "cell_type": "markdown",
   "metadata": {},
   "source": [
    "<figure>\n",
    "  <img src=\"img/intro/FieldMap.png\" width=\"500\" alt=\"Field to scale\"/>\n",
    "  <figcaption><center>Figure 1:  Field to scale</center></figcaption>\n",
    "</figure>"
   ]
  },
  {
   "cell_type": "markdown",
   "metadata": {},
   "source": [
    "### The ATM6’s\n",
    "\n",
    "The ATM6 is 8” wide and 12” tall. Our goal for this target is to get the ping pong inside a 4” diameter hole centered 8” above the field. There will be 3 ATM6’s placed randomly on the perimeter of the field. For ease of finding, they are marked with a trackwire that emits a magnetic field that oscillates at a frequency of 25kHz. Once the ATM6’s are down the robot can proceed to attack Ren."
   ]
  },
  {
   "cell_type": "markdown",
   "metadata": {},
   "source": [
    "<figure>\n",
    "  <img src=\"img/intro/targets.PNG\" width=\"500\"/>\n",
    "  <figcaption><center>Figure 2:  ATM6 left, Ren Right</center></figcaption>\n",
    "</figure>"
   ]
  },
  {
   "cell_type": "markdown",
   "metadata": {},
   "source": [
    "### The Ren\n",
    "\n",
    "The Ren is 12\" wide and 16\" tall . To complete the task the robot needs to place a ball inside the 2\" hole 14\" from the field.  The Ren is always placed in the same position on the field, at the opposite side of the starting position of the robot."
   ]
  },
  {
   "cell_type": "markdown",
   "metadata": {},
   "source": [
    "### Design Constraints\n",
    "\n",
    "As described before the robot completing the challenge must be completely autonomous. This means it will get no human help while performing the task. The task must be completed under two minutes. We have 5 weeks to design, implement and test our ideas in groups of 3. The budget  for this project must be kept under \\$150 to avoid arms races of who can afford the nicest components. Since there is a public demonstration of this robots they must also be designed to be reasonably safe. (no compressed air mechanisms). Last but not least we had to constrain the volume of our design when the round starts to a cube of side 11\".\n",
    "\n",
    "## System Architecture\n",
    "\n",
    "The following diagram is system level depiction of our system. We had to design it with the constraints of the battery a LiFe 9.9 V battery and the constraints of the micro-controller a UNO32. The value of this schematics to us, is ensure that the voltage values are compatible and that we have enough digital and analog pins on the micro-controller for our design."
   ]
  },
  {
   "cell_type": "markdown",
   "metadata": {},
   "source": [
    "<figure>\n",
    "  <img src=\"img/System_Diagram.png\"/>\n",
    "  <figcaption><center>Figure 3:  System Level Diagram </center></figcaption>\n",
    "</figure>"
   ]
  },
  {
   "cell_type": "markdown",
   "metadata": {},
   "source": [
    "## Mechanical Design\n",
    "\n",
    "The mechanical design of this project was developed on SolidWorks. The design is intended to be built using a laser cutter as a main tool for prototyping. We used the equations feature of Solidworks to make it possible to easily change the material used in the laser cutter with the main variable being the material thickness. To maintain our final robot within the budget we used MDF for the entire prototype but these can be changed to foam core, acrylic or other material by changing the material variable of the SolidWorks design."
   ]
  },
  {
   "cell_type": "markdown",
   "metadata": {},
   "source": [
    "<figure>\n",
    "  <img src=\"img/mechanical/IMG_6522.JPG\" width=\"600\"/>\n",
    "  <figcaption><center>Figure 4:  First Drafts</center></figcaption>\n",
    "</figure>"
   ]
  },
  {
   "cell_type": "markdown",
   "metadata": {},
   "source": [
    "### Module Layer Design\n",
    "\n",
    "The main idea for the mechanical design of our robot is based on a multiple layer structure that allow us to separate the main subsystems of our robot and work independently on each of them to perform the necessary adjustments during the development of the prototype.  \n",
    "\n",
    "The following images show the conceptual drawings of our design, these initial concepts changed during the design and the construction process as will be further detailed in the following sections of this report."
   ]
  },
  {
   "cell_type": "markdown",
   "metadata": {},
   "source": [
    "<center><div style=\"width: 100%; display: table;\">\n",
    "    <div style=\"display: table-row\">\n",
    "        <div style=\"width: 50%; display: table-cell;\"> <img src=\"img/mechanical/draft_1.png\" style=\"width:80%\"/> </div>\n",
    "        <div style=\"display: table-cell;\"> <img src=\"img/mechanical/draft_2.png\" style=\"width:80%\"/> </div>\n",
    "    </div>\n",
    "</div></center>"
   ]
  },
  {
   "cell_type": "markdown",
   "metadata": {},
   "source": [
    "<center><div style=\"width: 100%; display: table;\">\n",
    "    <div style=\"display: table-row\">\n",
    "        <div style=\"width: 50%; display: table-cell;\"> <img src=\"img/mechanical/draft_3.png\" style=\"width:80%\"/> </div>\n",
    "        <div style=\"display: table-cell;\"> <img src=\"img/mechanical/draft_4.png\" style=\"width:80%\"/> </div>\n",
    "    </div>\n",
    "</div>Figure 4:  First Drafts</center>"
   ]
  },
  {
   "cell_type": "markdown",
   "metadata": {},
   "source": [
    "### Bottom Layer\n",
    "\n",
    "This layer consists of two main parts: The tape sensors layer and the motor layer. The Tape sensors layer is made out of Foam Core and was made by hand, so we did not used the laser cutter to build this layer in order to be able to modify it as fast as possible. The main concern during the design of this layer was the structural resistance of it as this layer has to be strong enough to support the other layers.\n",
    "\n",
    "The following image show the CAD design of the Motor Layer, The actual prototype had minor modifications due to wiring and PCB board placement. Also is important to remark that the design consider accessibility to the wiring. The perforations in the walls of the chassis allow to inspect visually the connections but are also small enough to keep everything protected from the unavoidable bumps during operation."
   ]
  },
  {
   "cell_type": "markdown",
   "metadata": {},
   "source": [
    "<figure>\n",
    "  <img src=\"img/mechanical/bottom.JPG\" width=\"600\"/>\n",
    "  <figcaption><center>Figure 5: Finished Model of Bottom Layer</center></figcaption>\n",
    "</figure>"
   ]
  },
  {
   "cell_type": "markdown",
   "metadata": {},
   "source": [
    "The final design is displayed in the following images. The main components of this layer are marked in red. One of the biggest challenges during the development of this layer was the ball rollers as it was very hard to mount them with the optimal height. When the rollers were  too low the wheels had not enough friction and slipped on the field. On the other hand when the ball rollers were to high, the robot rocked back and forward to much. The numerous adjustments that we had to perform to the rollers proved the useful of the modular design as we only had to disassemble the bottom layer and work on it separately, leaving the other layers intact."
   ]
  },
  {
   "cell_type": "markdown",
   "metadata": {},
   "source": [
    "<center><div style=\"width: 100%; display: table;\">\n",
    "    <div style=\"display: table-row\">\n",
    "        <div style=\"width: 50%; display: table-cell;\"> <img src=\"img/mechanical/bottom_labelled.JPG\" style=\"width:80%\"/> </div>\n",
    "        <div style=\"display: table-cell;\"> <img src=\"img/mechanical/bottom_labelled_2.JPG\" style=\"width:80%\"/> </div>\n",
    "    </div>\n",
    "</div>Figure 6:  Finished Bottom Layer</center>"
   ]
  },
  {
   "cell_type": "markdown",
   "metadata": {},
   "source": [
    "### Middle Layer\n",
    "\n",
    "The middle layer or UNO Layer is the part of the robot that carries the most part of the electronics, is in a way the core of the robot. The design also integrates the bumpers mechanism and the track wire sensors. We followed the same approach and designed this layer in a way that allowed us to separate it  from the other modules of the bot. The SolidWorks Design is displayed in the following image."
   ]
  },
  {
   "cell_type": "markdown",
   "metadata": {},
   "source": [
    "<figure>\n",
    "  <img src=\"img/mechanical/unolayer1.JPG\" width=\"600\"/>\n",
    "  <figcaption><center>Figure 7: Finished Model of Middle Layer</center></figcaption>\n",
    "</figure>"
   ]
  },
  {
   "cell_type": "markdown",
   "metadata": {},
   "source": [
    "One of the most remarkable parts of the design of the middle layer are the bumpers. They are designed by modelling first the switch that we were using. Then, using the switch model to consider the angles and distances for the on and off positions we designed the actual bumpers. An image detailing the bumper when the robot bumps on the left side is shown below."
   ]
  },
  {
   "cell_type": "markdown",
   "metadata": {},
   "source": [
    "<figure>\n",
    "  <img src=\"img/mechanical/leftbumper.JPG\" width=\"600\"/>\n",
    "  <figcaption><center>Figure 8: Middle Layer Focus on the Bumpers</center></figcaption>\n",
    "</figure>"
   ]
  },
  {
   "cell_type": "markdown",
   "metadata": {},
   "source": [
    "The final results of the construction are displayed in the following images. For this layer we faced almost any issue during the actual building of the prototype. However during the operation of the robot the curved edges of the bumpers generated some stuck issues with the obstacles that we did not anticipate beforehand."
   ]
  },
  {
   "cell_type": "markdown",
   "metadata": {},
   "source": [
    "<figure>\n",
    "  <img src=\"img/mechanical/middle_layer_full.JPG\" width=\"600\"/>\n",
    "  <figcaption><center>Figure 9: Middle Layer with Circuits</center></figcaption>\n",
    "</figure>"
   ]
  },
  {
   "cell_type": "markdown",
   "metadata": {},
   "source": [
    "### Top Layer\n",
    "\n",
    "The top layer includes one of the most important mechanism, the shooter. Our approach to this consisted in an acceleration wheel for the actual shooting of the ping pong ball, a tilting mechanism to aim to the different targets, a cannon extension to improve our precision for the second target and the ball container with a rubber band mechanism to maintain the ball supply to the shooter. The following image shows the cad model of the top layer."
   ]
  },
  {
   "cell_type": "markdown",
   "metadata": {},
   "source": [
    "<figure>\n",
    "  <img src=\"img/mechanical/shooter.JPG\" width=\"600\"/>\n",
    "  <figcaption><center>Figure 10: Top Layer Model</center></figcaption>\n",
    "</figure>"
   ]
  },
  {
   "cell_type": "markdown",
   "metadata": {},
   "source": [
    "This was definitely the most difficult part of the prototype building, the trigger mechanism required  a long stage of testing, adjustments and in certain point partial redesign. This will be further explained in the next sections. The final result is shown in the following pictures."
   ]
  },
  {
   "cell_type": "markdown",
   "metadata": {},
   "source": [
    "<center><div style=\"width: 100%; display: table;\">\n",
    "    <div style=\"display: table-row\">\n",
    "        <div style=\"width: 50%; display: table-cell;\"> <img src=\"img/mechanical/top_layer_1.JPG\" style=\"width:80%\"/> </div>\n",
    "        <div style=\"display: table-cell;\"> <img src=\"img/mechanical/top_layer_2.JPG\" style=\"width:80%\"/> </div>\n",
    "    </div>\n",
    "</div>Figure 11:  Top Layer from different angles</center>"
   ]
  },
  {
   "cell_type": "markdown",
   "metadata": {},
   "source": [
    "### Shooting Mechanism\n",
    "\n",
    "#### Trigger"
   ]
  },
  {
   "cell_type": "markdown",
   "metadata": {},
   "source": [
    "<center><div style=\"width: 100%; display: table;\">\n",
    "    <div style=\"display: table-row\">\n",
    "        <div style=\"width: 50%; display: table-cell;\"> <img src=\"img/mechanical/trigger.JPG\" style=\"width:80%\"/> </div>\n",
    "        <div style=\"display: table-cell;\"> <img src=\"img/mechanical/trigger_2.JPG\" style=\"width:80%\"/> </div>\n",
    "    </div>\n",
    "</div>Figure 12:  Trigger Mechanism</center>"
   ]
  },
  {
   "cell_type": "markdown",
   "metadata": {},
   "source": [
    "The trigger mechanism consist in a cylindrical metal bar that is activated by a servo motor and springs. This cylinder push the balls towards the acceleration wheel. The following images show the detail of the mechanism.\n",
    "\n",
    "The loading mechanism is operated by a modified servo motor for continuous turning. This motor by the means of a cam mechanism pushes the cylinder base and the energy accumulated by the springs provide the impulse to the ping pong ball to reach the acceleration wheel. The limit switch is to stop the motor just when the maximum extension of the springs is reached and the mechanism have been released.\n",
    "\n",
    "As mentioned before this part was the more challenging to make it work, the initial design is shown in the following image. "
   ]
  },
  {
   "cell_type": "markdown",
   "metadata": {},
   "source": [
    "<figure>\n",
    "  <img src=\"img/mechanical/triggermechanism.JPG\" width=\"600\"/>\n",
    "  <figcaption><center>Figure 13: Trigger Mechanism</center></figcaption>\n",
    "</figure>"
   ]
  },
  {
   "cell_type": "markdown",
   "metadata": {},
   "source": [
    "In this first design the placement of the servomotor was different. During our tests we find out that when the motor was in this position the energy of the springs was not completely release because the motor was not fast enough and in some point the cam interfered with the cylinder support  regression. This problem was solved by changing the motor position in a way that allowed the complete regression of the cylinder base without interference."
   ]
  },
  {
   "cell_type": "markdown",
   "metadata": {},
   "source": [
    "#### Tilting\n",
    "\n",
    "For the tilting mechanism we used a timing pulley attached to a servo motor to control the angle of the cannon. The design and final result is shown in the pictures below."
   ]
  },
  {
   "cell_type": "markdown",
   "metadata": {},
   "source": [
    "<figure>\n",
    "  <img src=\"img/mechanical/pulley.JPG\" width=\"600\"/>\n",
    "  <figcaption><center>Figure 14: Pulley Mechanism Model</center></figcaption>\n",
    "</figure>"
   ]
  },
  {
   "cell_type": "markdown",
   "metadata": {},
   "source": [
    "The main issue with this design was the adjustment of the belt, that is why we had to add an extra axis to increase the tension of the belt and avoid slipping."
   ]
  },
  {
   "cell_type": "markdown",
   "metadata": {},
   "source": [
    "<figure>\n",
    "  <img src=\"img/mechanical/tilt_1.JPG\" width=\"600\"/>\n",
    "  <figcaption><center>Figure 15: Pulley Mechanism</center></figcaption>\n",
    "</figure>"
   ]
  },
  {
   "cell_type": "markdown",
   "metadata": {},
   "source": [
    "#### Extender\n",
    "\n",
    "The extension mechanism was designed and built to improve the precision of our robot. As the Ren target is so small during testing we found that a consistent shooting to the Ren target only with the shooter was extremely hard to accomplish, that is why we had to thing in a way to improve our chances to finish the task at the highest rate possible."
   ]
  },
  {
   "cell_type": "markdown",
   "metadata": {},
   "source": [
    "<center><div style=\"width: 100%; display: table;\">\n",
    "    <div style=\"display: table-row\">\n",
    "        <div style=\"width: 50%; display: table-cell;\"> <img src=\"img/mechanical/extender_1.JPG\" style=\"width:80%\"/> </div>\n",
    "        <div style=\"display: table-cell;\"> <img src=\"img/mechanical/extender_2.JPG\" style=\"width:80%\"/> </div>\n",
    "    </div>\n",
    "</div>Figure 13:  Bottom Layer}Extension Mechanism< Bottom View</center>"
   ]
  },
  {
   "cell_type": "markdown",
   "metadata": {},
   "source": [
    "To save space and time we decided that the best way to implement this idea was to just drive the motor in one direction, so the extension of the cannon will be drive by our state machine, but the retraction will be performed manually. That is why we implement a spring mechanism that hold the motor an the gear in its position , but had the flexibility to “unplug” the rack and pinion mechanism."
   ]
  },
  {
   "cell_type": "markdown",
   "metadata": {},
   "source": [
    "<center><div style=\"width: 100%; display: table;\">\n",
    "    <div style=\"display: table-row\">\n",
    "        <div style=\"width: 50%; display: table-cell;\"> <img src=\"img/mechanical/extender_3.JPG\" style=\"width:80%\"/> </div>\n",
    "        <div style=\"display: table-cell;\"> <img src=\"img/mechanical/extender_4.JPG\" style=\"width:80%\"/> </div>\n",
    "    </div>\n",
    "</div>Figure 14:  Extension Mechanism</center>"
   ]
  },
  {
   "cell_type": "markdown",
   "metadata": {},
   "source": [
    "The telescope is made out of paper and we used straws to build a retractil riel to provide more stability and resistance to the mechanism."
   ]
  },
  {
   "cell_type": "markdown",
   "metadata": {},
   "source": [
    "#### Ball Accelerator \n",
    "\n",
    "The ball accelerator consists in a foam wheel that spins at a high rpm rate. The friction between this wheel and the ping pong balls is what allows this mechanism to shoot. The image below shows the detail of the entire shooting mechanism."
   ]
  },
  {
   "cell_type": "markdown",
   "metadata": {},
   "source": [
    "<figure>\n",
    "  <img src=\"img/mechanical/ballaccelerator.JPG\" width=\"600\"/>\n",
    "  <figcaption><center>Figure 15:  Ball Accelerator Rendering</center></figcaption>\n",
    "</figure>"
   ]
  },
  {
   "cell_type": "markdown",
   "metadata": {},
   "source": [
    "We can see the interior of the acceleration wheel component. This off the shelf solution was very useful for the prototyping process. To mount this component we used springs that allowed to a fine adjustment of the contact between the acceleration wheel and the ping pong ball. In the back we can see the trigger mechanism that pushes the ball to the wheel and also controls the ball supply. "
   ]
  },
  {
   "cell_type": "markdown",
   "metadata": {},
   "source": [
    "#### Ball Container\n",
    "\n",
    "The ball container mechanism is designed to provide a minimum of six consistent shots. During testing we notice that the shooter was more reliable and had lower jamming rate when a little pressure was placed on the ball to be shot. With this observation we came up with the idea of a ball container that had that constant pressure to the balls. We used rubber bands to provide this constant pressure to the balls, also this mechanism allow to save space and carry a very good amount of ammunition."
   ]
  },
  {
   "cell_type": "markdown",
   "metadata": {},
   "source": [
    "<figure>\n",
    "  <img src=\"img/mechanical/ballcontainer.JPG\" width=\"600\"/>\n",
    "  <figcaption><center>Figure 16:  Ball Container</center></figcaption>\n",
    "</figure>"
   ]
  },
  {
   "cell_type": "markdown",
   "metadata": {},
   "source": [
    "Besides the several advantages that this ball loading method had, there were also several challenges to made it work. One of the most difficult things was to avoid jams due to friction on the rail, to solve this problem we used a polished metal bar with a diameter much smaller than the rail with a glued washers in each side to keep it in its position. "
   ]
  },
  {
   "cell_type": "markdown",
   "metadata": {},
   "source": [
    "<figure>\n",
    "  <img src=\"img/mechanical/ball_container.JPG\" width=\"400\"/>\n",
    "  <figcaption><center>Figure 17:  Ball Container detail</center></figcaption>\n",
    "</figure>"
   ]
  },
  {
   "cell_type": "markdown",
   "metadata": {},
   "source": [
    "## Hardware Architecture\n",
    "\n",
    "### Trackwire Sensor\n",
    "\n",
    "We are building a track-wire sensor to detect a 25 kHz signal that will be generated by the ATM6 targets. In Figure 18 is the top level block diagram of our circuit design."
   ]
  },
  {
   "cell_type": "markdown",
   "metadata": {},
   "source": [
    "<figure>\n",
    "  <img src=\"img/circuit_sch/trackwire/trackwire_top_level.jpeg\" width=\"600\"/>\n",
    "  <figcaption><center>Figure 18:  Trackwire Top Level Block Diagram</center></figcaption>\n",
    "</figure>"
   ]
  },
  {
   "cell_type": "markdown",
   "metadata": {},
   "source": [
    "#### Split Rail Buffer\n",
    "\n",
    "We are supplying our circuit with 3.3 Volts, and using a split rail buffer to supply 1.65 Volts to give our tank circuit and gain stage an offset so that it could generate a sine wave. In addition, the unity buffer is impedance isolated from the output shown in Figure 19."
   ]
  },
  {
   "cell_type": "markdown",
   "metadata": {},
   "source": [
    "<figure>\n",
    "  <img src=\"img/circuit_sch/trackwire/split_buffer_sch.JPG\" width=\"400\"/>\n",
    "  <figcaption><center>Figure 19:  Split Rail Buffer with 1.65V</center></figcaption>\n",
    "</figure>"
   ]
  },
  {
   "cell_type": "markdown",
   "metadata": {},
   "source": [
    "#### Tank Circuit\n",
    "\n",
    "This is a LC oscillator that resonates at 25 kHz, shown in Figure 20. Since the track-wire is around 24 - 25 kHz, it will induce a large oscillations in the tank, which we could use to detect voltage. "
   ]
  },
  {
   "cell_type": "markdown",
   "metadata": {},
   "source": [
    "<figure>\n",
    "  <img src=\"img/circuit_sch/trackwire/Tank_circuit_sch.JPG\" width=\"400\"/>\n",
    "  <figcaption><center>Figure 20:  Tank Sensor Resonant at 25 kHz</center></figcaption>\n",
    "</figure>"
   ]
  },
  {
   "cell_type": "markdown",
   "metadata": {},
   "source": [
    "Shown in Figure 21 is a 3 stage cascaded non-inverting gain stage, to amplify the tank circuit signal enough so we can receive it from 3.5inches to 4.5 inches away."
   ]
  },
  {
   "cell_type": "markdown",
   "metadata": {},
   "source": [
    "<figure>\n",
    "  <img src=\"img/circuit_sch/trackwire/gain_stage_sch.JPG\"/>\n",
    "  <figcaption><center>Figure 21:  Gain Stage</center></figcaption>\n",
    "</figure>"
   ]
  },
  {
   "cell_type": "markdown",
   "metadata": {},
   "source": [
    "Once we have the signal from the gain stage, we would feed that analog output to our Uno32 microcontroller, so that we could use that value to locate and aim at our AT-M6 targets"
   ]
  },
  {
   "cell_type": "markdown",
   "metadata": {},
   "source": [
    "### Beacon detector\n",
    "\n",
    "We are designing a 2 kHz beacon detector circuit to help our robot orientate itself at the start of the attack. In addition, it is also used to see indicate when to attack the final target, Kylo Ren’s ship. Figure 22 shows the Beacon Detector top level block diagram."
   ]
  },
  {
   "cell_type": "markdown",
   "metadata": {},
   "source": [
    "<figure>\n",
    "  <img src=\"img/circuit_sch/beacon/beacon_top_level.png\" width=\"550\"/>\n",
    "  <figcaption><center>Figure 22:  Beacon Detector Top Level</center></figcaption>\n",
    "</figure>"
   ]
  },
  {
   "cell_type": "markdown",
   "metadata": {},
   "source": [
    "#### Split Rail Buffer\n",
    "\n",
    "Same as the circuit in trackwire, we are using it to provide an offset of 1.65V, and it also provides impedance isolation for all the other circuit that uses this source.\n",
    "\n",
    "#### Trans-resistive Phototransistor Circuit\n",
    "\n",
    "We designed a sourcing configuration of trans-resistive circuit, shown in Figure 23. because there is more collector current flow when incident light increases, and the output could be amplified using the feedback resistor."
   ]
  },
  {
   "cell_type": "markdown",
   "metadata": {},
   "source": [
    "<figure>\n",
    "  <img src=\"img/circuit_sch/beacon/photo_resistive-sch.png\" width=\"400\"/>\n",
    "  <figcaption><center>Figure 23:  Trans-resistive Phototransistor Circuit</center></figcaption>\n",
    "</figure>"
   ]
  },
  {
   "cell_type": "markdown",
   "metadata": {},
   "source": [
    "#### Gain Stage\n",
    "\n",
    "Shown in Figure 24 is a 3 stage cascaded non-inverting gain stage, to amplify the phototransistor signal so it could be detected from at least 6 feet away. The reason we need this much gain is because at the start of the attack, the beacon detector will be 6 feet apart from our starting position."
   ]
  },
  {
   "cell_type": "markdown",
   "metadata": {},
   "source": [
    "<figure>\n",
    "  <img src=\"img/circuit_sch/beacon/gain_stage.png\"/>\n",
    "  <figcaption><center>Figure 24:  Cascaded Gain Stage</center></figcaption>\n",
    "</figure>"
   ]
  },
  {
   "cell_type": "markdown",
   "metadata": {},
   "source": [
    "#### First Comparator\n",
    "\n",
    "This analog comparator is used to rail all the signal to 3.3V before feeding it to a filter. The reason to rail all the signal is because the filter will cut off all the unwanted signal so that we can see a distinct voltage difference between 2 kHz signal and other signals from 2 feet away or 6 feet away."
   ]
  },
  {
   "cell_type": "markdown",
   "metadata": {},
   "source": [
    "<figure>\n",
    "  <img src=\"img/circuit_sch/beacon/comparator_1.png\" width=\"400\"/>\n",
    "  <figcaption><center>Figure 25:  Comparator 1 </center></figcaption>\n",
    "</figure>"
   ]
  },
  {
   "cell_type": "markdown",
   "metadata": {},
   "source": [
    "#### Butterworth Bandpass Filter\n",
    "\n",
    "We implemented a 2nd Order Butterworth Bandpass Filter to cut off 1.5 kHz, 2.5 kHz signal and pass 2 kHz signal, shown in Figure 26. The reason we choose a Butterworth filter is because it is optimized for constancy of amplitude response in the pass-band."
   ]
  },
  {
   "cell_type": "markdown",
   "metadata": {},
   "source": [
    "<figure>\n",
    "  <img src=\"img/circuit_sch/beacon/filter_sch.png\" width=\"400\"/>\n",
    "  <figcaption><center>Figure 26:  2nd Order Butterworth Bandpass Filter </center></figcaption>\n",
    "</figure>"
   ]
  },
  {
   "cell_type": "markdown",
   "metadata": {},
   "source": [
    "#### Peak Detector\n",
    "\n",
    "We are using the peak detector to hold the output of the filter high at different frequencies. The peak detector stores charge on the negative input using a capacitor. The diode prevents discharging, so the op-amp can only raise the voltage on the capacitor, but cannot lower it. In addition, a simple resistor can be used to make the peak detector “leak” charge off of the capacitor. The voltage output of the filter will be different at 1.5 kHz, 2 kHz and 2.5 kHz, which can be used to generate a high or low signal for the micro-controller."
   ]
  },
  {
   "cell_type": "markdown",
   "metadata": {},
   "source": [
    "<figure>\n",
    "  <img src=\"img/circuit_sch/beacon/peak_detector.JPG\" width=\"400\"/>\n",
    "  <figcaption><center>Figure 27:  Peak Detector</center></figcaption>\n",
    "</figure>"
   ]
  },
  {
   "cell_type": "markdown",
   "metadata": {},
   "source": [
    "#### Second Comparator\n",
    "\n",
    "From the above peak detector, we can find two threshold for 2 kHz signal to create a hysteresis bound so that our beacon detector will only generate a high signal when it detects 2 kHz. In order to do this, we used another analog comparator shown in Figure 28."
   ]
  },
  {
   "cell_type": "markdown",
   "metadata": {},
   "source": [
    "<figure>\n",
    "  <img src=\"img/circuit_sch/beacon/comparator_2.png\" width=\"400\"/>\n",
    "  <figcaption><center>Figure 28:  Comparator 2</center></figcaption>\n",
    "</figure>"
   ]
  },
  {
   "cell_type": "markdown",
   "metadata": {},
   "source": [
    "Using the output from comparator 2, we can feet this signal to a digital input of the microcontroller, so that when the beacon is on, our detector will generate a high signal to the microcontroller to help us navigate the field and attack Ren’s ship."
   ]
  },
  {
   "cell_type": "markdown",
   "metadata": {},
   "source": [
    "### Tape Sensors\n",
    "\n",
    "We designed a sourcing configuration of the phototransistor to detect black tape, circuit is shown in Figure 29. Since our microcontroller can not supply 20mA, therefore we are using a darlington transistor to provide 20mA to drive each LED. The voltage across the LED is 1.25V, in order to drive 20mA, we needed (3.3V - 1.25V - 0.4V) / 20m = 82 ohms, and the closest standard resistor is 68 ohms. Our microcontroller can supply about 7mA of current, therefore, the base resistor is (3.3V - 1.4V)/7mA is about 330 ohms, where 3.3V is Vcc, and 1.4V is the base to emitter voltage.  "
   ]
  },
  {
   "cell_type": "markdown",
   "metadata": {},
   "source": [
    "<figure>\n",
    "  <img src=\"img/circuit_sch/tapesensor/tape_sensor_sch.png\" width=\"600\"/>\n",
    "  <figcaption><center>Figure 29:  Tape sensor with Darlington Transistors</center></figcaption>\n",
    "</figure>"
   ]
  },
  {
   "cell_type": "markdown",
   "metadata": {},
   "source": [
    "<figure>\n",
    "  <img src=\"img/circuit_sch/tapesensor/perfboard_tape_sensor.jpg\" width=\"500\"/>\n",
    "  <figcaption><center>Figure 30:  Tape sensor perfboard</center></figcaption>\n",
    "</figure>"
   ]
  },
  {
   "cell_type": "markdown",
   "metadata": {},
   "source": [
    "#### Placement\n",
    "\n",
    "We choose 5 tape sensors to help our robot to stay in bound and tape follow. Figure 31 shows the placement of our sensor. In the Software Architecture section, we will be going into more detail of how we are using these tape sensor to navigate the course."
   ]
  },
  {
   "cell_type": "markdown",
   "metadata": {},
   "source": [
    "<figure>\n",
    "  <img src=\"img/circuit_sch/tapesensor/placement.JPG\" width=\"350\"/>\n",
    "  <figcaption><center>Figure 31:  Tape Sensor Placement</center></figcaption>\n",
    "</figure>"
   ]
  },
  {
   "cell_type": "markdown",
   "metadata": {},
   "source": [
    "### Bumpers Sensors\n",
    "\n",
    "We implemented the bumper circuit with a pull down resistor, so that when the bumper is pressed, the output is high and when the bumper is unpressed, the output is drive to ground."
   ]
  },
  {
   "cell_type": "markdown",
   "metadata": {},
   "source": [
    "<figure>\n",
    "  <img src=\"img/circuit_sch/bumpers/bumpers_sch.JPG\" width=\"150\"/>\n",
    "  <figcaption><center>Figure 32:  Bumper circuit </center></figcaption>\n",
    "</figure>"
   ]
  },
  {
   "cell_type": "markdown",
   "metadata": {},
   "source": [
    "### Wire Management\n",
    "\n",
    "There are a lot of different circuit components, and wires can easily become tangled, making them difficult to work with, sometimes resulting in unplugged wires as one attempts to move a cable. Any kind of problem diagnosis and future updates to such enclosures could be very difficult. Therefore, we made all the circuits ribbon cable compatible to keep wires untangled and organized. "
   ]
  },
  {
   "cell_type": "markdown",
   "metadata": {},
   "source": [
    "### Driving Actuators\n",
    "\n",
    "#### H-Bridge\n",
    "\n",
    "In order to drive the motor, we are using the H-Bridge to sink current so that our power distribution could drive enough current for the motor to spin. In addition, the H-Bridge can provide bi-direction for the motor through logical high and low.\n",
    "\n",
    "#### Tip 122\n",
    "\n",
    "Since our microcontroller can only provide about 7mA, therefore, to drive other servos and shooting motor, we are using TIP-122 transistor to drive enough current for motors and servos to operate."
   ]
  },
  {
   "cell_type": "markdown",
   "metadata": {},
   "source": [
    "## Software Architecture\n",
    "\n",
    "We implemented our system using the pattern of state machines. This design was a good fit to the problem because we required fast response to events that may come at unpredictable times.  To help us achieve this task we used the provided ES Framework. It provides an easy means of getting timed events. The framework is also flexible enough to expand and create new events and event checkers. \n",
    "\n",
    "We implemented the state machine in two layers. We used the concept of hierarchical state machines to encapsulate the complexity of doing certain tasks repeatedly.\n",
    "\n",
    "### State machines\n",
    "\n",
    "#### Top state machine\n",
    "\n",
    "The Top state machine is responsible of handling the transitions between the sub-state machines. "
   ]
  },
  {
   "cell_type": "markdown",
   "metadata": {},
   "source": [
    "<figure>\n",
    "  <img src=\"img/state_machines/TOP.png\"/>\n",
    "  <figcaption><center>Figure 33: Top State Machine Diagram</center></figcaption>\n",
    "</figure>"
   ]
  },
  {
   "cell_type": "markdown",
   "metadata": {},
   "source": [
    "#### Find Line\n",
    "\n",
    "This substate is responsible for finding a line and positioning the robot so that it can follow it. This state transitions into Line Follower state as soon as it senses that the robot is aligned with the tape."
   ]
  },
  {
   "cell_type": "markdown",
   "metadata": {},
   "source": [
    "<figure>\n",
    "  <img src=\"img/state_machines/FindLine.png\"/>\n",
    "  <figcaption><center>Figure 34: Find Line State Machine Diagram</center></figcaption>\n",
    "</figure>"
   ]
  },
  {
   "cell_type": "markdown",
   "metadata": {},
   "source": [
    "#### Line Follower\n",
    "\n",
    "After the robot has been positioned properly, in this state it will move forwards and follow the line. It will exit this state if the bumpers are pressed or if a track wire is detected."
   ]
  },
  {
   "cell_type": "markdown",
   "metadata": {},
   "source": [
    "<figure>\n",
    "  <img src=\"img/state_machines/LineFollower.png\"/>\n",
    "  <figcaption><center>Figure 35: Line Follower State Machine Diagram</center></figcaption>\n",
    "</figure>"
   ]
  },
  {
   "cell_type": "markdown",
   "metadata": {},
   "source": [
    "#### Obstacle Avoidance\n",
    "\n",
    "In the case that the robot encounters an obstacle which is detected by the bumpers. It will go into this state which is responsible for going around the obstacle and finding the tape again. This state may also exit if it finds the beacon after it has hit at least one ATM6. "
   ]
  },
  {
   "cell_type": "markdown",
   "metadata": {},
   "source": [
    "<figure>\n",
    "  <img src=\"img/state_machines/ObstacleAvoidance.png\"/>\n",
    "  <figcaption><center>Figure 36: Obstacle Avoidance State Machine Diagram</center></figcaption>\n",
    "</figure>"
   ]
  },
  {
   "cell_type": "markdown",
   "metadata": {},
   "source": [
    "#### Align ATM6\n",
    "\n",
    "The role of this state machine is to align the shooting mechanism with the ATM6. The robot enters this state from the Line Follower and it detects a trackwire. This state turns around and enters the Shoot state."
   ]
  },
  {
   "cell_type": "markdown",
   "metadata": {},
   "source": [
    "<figure>\n",
    "  <img src=\"img/state_machines/AlignATM6.png\"/>\n",
    "  <figcaption><center>Figure 37: Obstacle Avoidance State Machine Diagram</center></figcaption>\n",
    "</figure>"
   ]
  },
  {
   "cell_type": "markdown",
   "metadata": {},
   "source": [
    "#### Shoot\n",
    "\n",
    "The Shoot state is responsible of setting of the series of events required for a successful shot. We are using a complicated system that requires precise timing. We start a motor that has a rubber wheel attached and it needs to reach a certain minimum speed before a ping pong will successfully go through it with the necessary speed. If we are shooting the Ren, we have the extra step of extending the barrel. After this we need to run a servo to release a ball and push it to the accelerator wheel. "
   ]
  },
  {
   "cell_type": "markdown",
   "metadata": {},
   "source": [
    "<figure>\n",
    "  <img src=\"img/state_machines/Shoot.png\"/>\n",
    "  <figcaption><center>Figure 38: Shoot State Machine Diagram</center></figcaption>\n",
    "</figure>"
   ]
  },
  {
   "cell_type": "markdown",
   "metadata": {},
   "source": [
    "#### Exit Shoot\n",
    "\n",
    "The robot goes into this state after each shot to the ATM6 and it takes care of aligning back with the tape and ensuring that the shot was successful. Once a shot is successful the trackwire goes off."
   ]
  },
  {
   "cell_type": "markdown",
   "metadata": {},
   "source": [
    "<figure>\n",
    "  <img src=\"img/state_machines/exitShoot.png\"/>\n",
    "  <figcaption><center>Figure 39: Exit Shoot State Machine Diagram</center></figcaption>\n",
    "</figure>"
   ]
  },
  {
   "cell_type": "markdown",
   "metadata": {},
   "source": [
    "#### Attack Ren\n",
    "\n",
    "In this state the robot aligns with Ren until it finds the tape T. Once it finds it it transitions to the Shoot state with the Ren flag on. "
   ]
  },
  {
   "cell_type": "markdown",
   "metadata": {},
   "source": [
    "<figure>\n",
    "  <img src=\"img/state_machines/attackRen.png\"/>\n",
    "  <figcaption><center>Figure 40: AttackRen State Machine Diagram</center></figcaption>\n",
    "</figure>"
   ]
  },
  {
   "cell_type": "markdown",
   "metadata": {},
   "source": [
    "### Event Checkers\n",
    "\n",
    "We needed to infrastructure to generate events when physical changes occurred. Some of this changes were detected by event checkers others by services. We used event checkers to run as fast as possible the code to check for changes in our surroundings. We used services for event checkers that could be run at a slower rate or required a delay.\n",
    "\n",
    "#### Tape Sensor\n",
    "\n",
    "We implemented the checker for the tape sensors using a service. We decided to use a service because we needed to guarantee a delay.  For our tape sensors we implemented synchronous sampling as a means of getting rid of room noise.  We also implemented a moving average as well to account for imperfection in the field. (black dots or white letters on the tape).\n",
    "The service would generate two types of events. TAPE\\_FOUND and TAPE\\_LOST. The parameter would specify which tape sensor it refers to.\n",
    "\n",
    "#### Bumpers\n",
    "\n",
    "We also used a service to check the status of the bumpers. We sampled the bumpers at a slower rate to debounce them. We also added a voting system to avoid noise on our system. \n",
    "This service generated two types of events. A BUMPER\\_PRESSED and BUMPER\\_RELEASED events. The parameter would specify which bumper the event refers to.\n",
    "\n",
    "#### Beacon Detector\n",
    "\n",
    "The Beacon detector was implemented as an event checker since we took great care with noise measure in hardware. As soon as the digital pin goes high a BEACON\\_FOUND event is generated. As soon as the digital pin goes low it would send a BEACON\\_LOST event.\n",
    "\n",
    "### Testing Procedures\n",
    "\n",
    "We developed and tested the code for the different sensors and actuators independently. We used different main programs to test every component individually. This way diagnosing problems with a particular component meant just swapping to a different main."
   ]
  },
  {
   "cell_type": "markdown",
   "metadata": {},
   "source": [
    "## Challenges\n",
    "\n",
    "### Accuracy\n",
    "\n",
    "We struggled to get our shooting mechanism to shoot the Ren reliably. We revised our design and added an extender to the cannon which greatly improved our chances.\n",
    "\n",
    "### Stalling/ slipping (motor problems)\n",
    "\n",
    "We used a motor that was barely strong enough to move our bot. This introduced great variability in our timed turns. To reduce the impact of this we used turns that relied on looking for tape whenever possible.\n",
    "\n",
    "### Lack of sleep\n",
    "\n",
    "As the quarter progressed we started to feel the pressure of the deadline and we responded by spending more and more time in lab. This created other problems because we would write code while somewhat sleep deprived. "
   ]
  },
  {
   "cell_type": "markdown",
   "metadata": {},
   "source": [
    "## Conclusion\n",
    "\n",
    "We successfully built a machine capable of finishing the task. The robot we built managed to complete the task under two minutes. Even though we designed our robot to be robust, there was still great variability in its performance. We partially attribute this variability to change battery levels, slipping/stalling of the wheels on the field  and our algorithm for line following. If we were to redo this project we would chose motors with more torque and an algorithm that follows the line more closely."
   ]
  }
 ],
 "metadata": {
  "hide_input": false,
  "kernelspec": {
   "display_name": "Python 3",
   "language": "python",
   "name": "python3"
  },
  "language_info": {
   "codemirror_mode": {
    "name": "ipython",
    "version": 3
   },
   "file_extension": ".py",
   "mimetype": "text/x-python",
   "name": "python",
   "nbconvert_exporter": "python",
   "pygments_lexer": "ipython3",
   "version": "3.7.4"
  },
  "toc": {
   "base_numbering": 1,
   "nav_menu": {},
   "number_sections": true,
   "sideBar": true,
   "skip_h1_title": false,
   "title_cell": "Table of Contents",
   "title_sidebar": "Contents",
   "toc_cell": true,
   "toc_position": {},
   "toc_section_display": true,
   "toc_window_display": false
  }
 },
 "nbformat": 4,
 "nbformat_minor": 2
}
